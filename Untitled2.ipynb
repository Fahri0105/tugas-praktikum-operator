{
 "cells": [
  {
   "cell_type": "code",
   "execution_count": null,
   "id": "31270e83",
   "metadata": {},
   "outputs": [],
   "source": [
    "tgl_lahir = input(\"masukan tanggal :\")\n",
    "nama = input('masukan nama :')\n",
    "pemisah = tgl_lahir.split('/')\n",
    "print(f\"tanggal : {pemisah[0]}, bulan :{pemisah[1]} , tahun :{pemisah[2]}\")\n",
    "pemisah2 = nama.split()\n",
    "pemisah_pertama = pemisah2[0]\n",
    "pemisah_kedua = pemisah2[1]\n",
    "print(f\"nama inisial : {nama_pertama[0]+nama_kedua[0]}\")"
   ]
  },
  {
   "cell_type": "code",
   "execution_count": null,
   "id": "583de1b1",
   "metadata": {},
   "outputs": [],
   "source": []
  },
  {
   "cell_type": "code",
   "execution_count": null,
   "id": "b269bd7d",
   "metadata": {},
   "outputs": [],
   "source": []
  },
  {
   "cell_type": "code",
   "execution_count": null,
   "id": "ab9a22e7",
   "metadata": {},
   "outputs": [],
   "source": []
  }
 ],
 "metadata": {
  "kernelspec": {
   "display_name": "Python 3 (ipykernel)",
   "language": "python",
   "name": "python3"
  },
  "language_info": {
   "codemirror_mode": {
    "name": "ipython",
    "version": 3
   },
   "file_extension": ".py",
   "mimetype": "text/x-python",
   "name": "python",
   "nbconvert_exporter": "python",
   "pygments_lexer": "ipython3",
   "version": "3.11.5"
  }
 },
 "nbformat": 4,
 "nbformat_minor": 5
}
